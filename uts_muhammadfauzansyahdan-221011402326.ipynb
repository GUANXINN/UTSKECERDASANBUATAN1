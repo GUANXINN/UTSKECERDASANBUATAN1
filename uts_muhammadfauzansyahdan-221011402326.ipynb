{
 "cells": [
  {
   "cell_type": "code",
   "execution_count": 1,
   "id": "18a58031-7ec0-4ad3-98ca-6654504040c6",
   "metadata": {},
   "outputs": [],
   "source": [
    "# Data\n",
    "\n",
    "company_detail_list = [\n",
    "      {\n",
    "          'name': 'Company 1',\n",
    "          'domain': 'Retail',\n",
    "          'country': 'United States'\n",
    "      },\n",
    "      {\n",
    "          'name': 'Company 2',\n",
    "          'domain': 'Technology',\n",
    "          'country': 'United Kingdom'\n",
    "      },\n",
    "      {\n",
    "          'name': 'Company 3',\n",
    "          'domain': 'Healthcare',\n",
    "          'country': 'United States'\n",
    "      }\n",
    "  ]\n",
    "\n",
    "employee_detail_list = [\n",
    "     {\n",
    "          'name': 'EMP-0001',\n",
    "          'first_name': 'John',\n",
    "          'last_name': 'Doe',\n",
    "          'full_name': 'John Doe',\n",
    "          'company': 'Company 1',\n",
    "          'nationality': 'Australia'\n",
    "      },\n",
    "      {\n",
    "          'name': 'EMP-0002',\n",
    "          'first_name': 'Tom',\n",
    "          'last_name': 'Smith',\n",
    "          'full_name': 'Tom Smith',\n",
    "          'company': 'Company 2',\n",
    "          'nationality': 'United States'\n",
    "      },\n",
    "      {\n",
    "          'name': 'EMP-0003',\n",
    "          'first_name': 'Andrew',\n",
    "          'last_name': 'Sebastian',\n",
    "          'full_name': 'Andrew Sebastian',\n",
    "          'company': 'Company 3',\n",
    "          'nationality': 'United States'\n",
    "      },\n",
    "      {\n",
    "          'name': 'EMP-0005',\n",
    "          'first_name': 'Ying Han',\n",
    "          'last_name': 'Tan',\n",
    "          'full_name': 'Ying Han Tan',\n",
    "          'company': 'Company 1',\n",
    "          'nationality': 'Australia'\n",
    "      },\n",
    "      {\n",
    "          'name': 'EMP-0015',\n",
    "          'first_name': 'Kenneth',\n",
    "          'last_name': 'Ng',\n",
    "          'full_name': 'Kenneth Ng',\n",
    "          'company': 'Company 3',\n",
    "          'nationality': 'United States'\n",
    "      },\n",
    "      {\n",
    "          'name': 'EMP-0018',\n",
    "          'first_name': 'Rubby',\n",
    "          'last_name': 'Lee',\n",
    "          'full_name': 'Rubby Lee',\n",
    "          'company': 'Company 2',\n",
    "          'nationality': 'Hong Kong'\n",
    "      },\n",
    "     {\n",
    "          'name': 'EMP-0017',\n",
    "          'first_name': 'Robert',\n",
    "          'last_name': 'White',\n",
    "          'full_name': 'Robert White',\n",
    "          'company': 'Company 1',\n",
    "          'nationality': 'United Kingdom'\n",
    "      }\n",
    "  ]\n",
    "\n"
   ]
  },
  {
   "cell_type": "markdown",
   "id": "03754afb-789e-4359-9f8b-2c30cb8451a9",
   "metadata": {},
   "source": [
    "TASK 1"
   ]
  },
  {
   "cell_type": "code",
   "execution_count": null,
   "id": "47a4b57c-2d59-467a-a5b2-7eb910f59653",
   "metadata": {},
   "outputs": [],
   "source": [
    "company_names = sorted([{'name': company['name']} for company in company_detail_list],key=lambda x: x['name'], reverse=True)"
   ]
  },
  {
   "cell_type": "code",
   "execution_count": 19,
   "id": "202ece14-c109-4f74-9746-46e57595d76e",
   "metadata": {},
   "outputs": [
    {
     "data": {
      "text/plain": [
       "[{'name': 'Company 3'}, {'name': 'Company 2'}, {'name': 'Company 1'}]"
      ]
     },
     "execution_count": 19,
     "metadata": {},
     "output_type": "execute_result"
    }
   ],
   "source": [
    "company_names"
   ]
  },
  {
   "cell_type": "markdown",
   "id": "a7db01a0-3706-464e-96ec-4b4c4a018413",
   "metadata": {},
   "source": [
    "TASK 2"
   ]
  },
  {
   "cell_type": "code",
   "execution_count": 11,
   "id": "664c8024-47c0-42ab-bac9-f01d2571f954",
   "metadata": {},
   "outputs": [
    {
     "name": "stdout",
     "output_type": "stream",
     "text": [
      "Company 1: Retail (United States)\n",
      "Company 2: Technology (United Kingdom)\n",
      "Company 3: Healthcare (United States)\n"
     ]
    }
   ],
   "source": [
    "for company in company_detail_list:\n",
    "    print(f\"{company['name']}: {company['domain']} ({company['country']})\")\n"
   ]
  },
  {
   "cell_type": "markdown",
   "id": "ceece160-4715-4da5-a9f5-4f181b11fff8",
   "metadata": {},
   "source": [
    "TASK 3"
   ]
  },
  {
   "cell_type": "code",
   "execution_count": 17,
   "id": "0ebd012a-370d-4ae7-88df-3a417c633c30",
   "metadata": {},
   "outputs": [],
   "source": [
    "company_domain_map = {company['name']: company['domain'] for company in company_detail_list}\n",
    "employees_by_domain = {}\n",
    "\n",
    "for employee in employee_detail_list:\n",
    "    company_name = employee['company']\n",
    "    domain = company_domain_map.get(company_name, None)\n",
    "    \n",
    "    if domain:\n",
    "        if domain not in employees_by_domain:\n",
    "            employees_by_domain[domain] = []\n",
    "        employees_by_domain[domain].append(employee['full_name'])"
   ]
  },
  {
   "cell_type": "code",
   "execution_count": 18,
   "id": "7d3452c2-3089-4d16-9a85-d662d69e2770",
   "metadata": {},
   "outputs": [
    {
     "data": {
      "text/plain": [
       "{'Retail': ['John Doe', 'Ying Han Tan', 'Robert White'],\n",
       " 'Technology': ['Tom Smith', 'Rubby Lee'],\n",
       " 'Healthcare': ['Andrew Sebastian', 'Kenneth Ng']}"
      ]
     },
     "execution_count": 18,
     "metadata": {},
     "output_type": "execute_result"
    }
   ],
   "source": [
    "employees_by_domain"
   ]
  },
  {
   "cell_type": "markdown",
   "id": "4cf8b19c-df8e-4448-a590-09c4c6a551cc",
   "metadata": {},
   "source": [
    "TASK 4"
   ]
  },
  {
   "cell_type": "code",
   "execution_count": 13,
   "id": "9b30ae98-be97-465b-b027-d0e6dc3e66dd",
   "metadata": {},
   "outputs": [
    {
     "name": "stdout",
     "output_type": "stream",
     "text": [
      "[{'full_name': 'John Doe', 'company': 'Company 1', 'country': 'United States'}, {'full_name': 'Tom Smith', 'company': 'Company 2', 'country': 'United Kingdom'}, {'full_name': 'Andrew Sebastian', 'company': 'Company 3', 'country': 'United States'}, {'full_name': 'Ying Han Tan', 'company': 'Company 1', 'country': 'United States'}, {'full_name': 'Kenneth Ng', 'company': 'Company 3', 'country': 'United States'}, {'full_name': 'Rubby Lee', 'company': 'Company 2', 'country': 'United Kingdom'}, {'full_name': 'Robert White', 'company': 'Company 1', 'country': 'United States'}]\n"
     ]
    }
   ],
   "source": [
    "def get_employees_with_company_country(employee_list, company_list):\n",
    "    company_country_map = {company['name']: company['country'] for company in company_list}\n",
    "    result = [\n",
    "        {\n",
    "            \"full_name\": employee['full_name'],\n",
    "            \"company\": employee['company'],\n",
    "            \"country\": company_country_map.get(employee['company'], None)\n",
    "        }\n",
    "        for employee in employee_list\n",
    "    ]\n",
    "    return result\n",
    "employees_with_country = get_employees_with_company_country(employee_detail_list, company_detail_list)\n",
    "print(employees_with_country)"
   ]
  },
  {
   "cell_type": "markdown",
   "id": "ba9ad318-1a46-428e-b5bd-622b7e086f1e",
   "metadata": {},
   "source": [
    "TASK 5"
   ]
  },
  {
   "cell_type": "code",
   "execution_count": 14,
   "id": "4006ab3d-2e69-4f4a-9471-d443554a166c",
   "metadata": {},
   "outputs": [
    {
     "name": "stdout",
     "output_type": "stream",
     "text": [
      "[{'company': 'Company 1', 'employee_nationality': {'Australia': 2, 'United Kingdom': 1}}, {'company': 'Company 2', 'employee_nationality': {'United States': 1, 'Hong Kong': 1}}, {'company': 'Company 3', 'employee_nationality': {'United States': 2}}]\n"
     ]
    }
   ],
   "source": [
    "def get_company_employee_nationalities(employee_list):\n",
    "    company_nationality_count = {}\n",
    "\n",
    "    for employee in employee_list:\n",
    "        company = employee['company']\n",
    "        nationality = employee['nationality']\n",
    "        \n",
    "        if company not in company_nationality_count:\n",
    "            company_nationality_count[company] = {}\n",
    "        \n",
    "        if nationality in company_nationality_count[company]:\n",
    "            company_nationality_count[company][nationality] += 1\n",
    "        else:\n",
    "            company_nationality_count[company][nationality] = 1\n",
    "\n",
    "    result = [\n",
    "        {\n",
    "            \"company\": company,\n",
    "            \"employee_nationality\": nationalities\n",
    "        }\n",
    "        for company, nationalities in company_nationality_count.items()\n",
    "    ]\n",
    "    return result\n",
    "\n",
    "company_employee_nationalities = get_company_employee_nationalities(employee_detail_list)\n",
    "print(company_employee_nationalities)"
   ]
  }
 ],
 "metadata": {
  "kernelspec": {
   "display_name": "Python 3 (ipykernel)",
   "language": "python",
   "name": "python3"
  },
  "language_info": {
   "codemirror_mode": {
    "name": "ipython",
    "version": 3
   },
   "file_extension": ".py",
   "mimetype": "text/x-python",
   "name": "python",
   "nbconvert_exporter": "python",
   "pygments_lexer": "ipython3",
   "version": "3.13.0"
  }
 },
 "nbformat": 4,
 "nbformat_minor": 5
}
